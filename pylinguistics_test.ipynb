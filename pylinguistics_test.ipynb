{
 "cells": [
  {
   "cell_type": "code",
   "execution_count": 1,
   "metadata": {
    "collapsed": false
   },
   "outputs": [
    {
     "name": "stdout",
     "output_type": "stream",
     "text": [
      "1. Descriptive\n",
      "  Word count=159\n",
      "  Sentence count=6\n",
      "  Syllable count=195\n",
      "  Avg word per sentence=26.000000\n",
      "  Avg syllable per word=0.815385\n",
      "2. Word Information\n",
      "  Adjective incidence=50.314465\n",
      "  Noun incidence=352.201258\n",
      "  Verb incidence=100.628931\n",
      "3. Syntactic Pattern Density\n",
      "  Content density=1.271429\n",
      "4. Redability\n",
      "  min(flesch_kincaid, coleman_liau)= 0.000000\n",
      "  Ambiquity=8.011236\n",
      "5. Connectives\n",
      "  Connectives incidence=50.314465\n",
      "  Positive Connectives incidence=50.314465\n",
      "  Negative Connectives incidence=50.314465\n",
      "[(u'This', 'DT'), (u'is', 'VBZ'), (u'one', 'CD'), (u'of', 'IN'), (u'Tim', 'NNP'), (u'Burton', 'NNP'), (u\"'s\", 'POS'), (u'best', 'JJS'), (u'films', 'NNS'), (u'.', '.'), (u'His', 'NNP'), (u'sophomore', 'NN'), (u'effort', 'NN'), (u'shows', 'VBZ'), (u'the', 'DT'), (u'story', 'NN'), (u'of', 'IN'), (u'a', 'DT'), (u'married', 'JJ'), (u'couple', 'NN'), (u'(', ':'), (u'the', 'DT'), (u'Maitlands', 'NNPS'), (u'played', 'VBN'), (u'with', 'IN'), (u'good', 'JJ'), (u'degree', 'NN'), (u'by', 'IN'), (u'Alec', 'NNP'), (u'Baldwin', 'NNP'), (u'and', 'CC'), (u'Geena', 'NNP'), (u'Davis', 'NNP'), (u')', 'NNP'), (u'who', 'WP'), (u'die', 'VB'), (u'accidentally', 'RB'), (u'off', 'IN'), (u'a', 'DT'), (u'bridge', 'NN'), (u'and', 'CC'), (u'wind', 'NN'), (u'up', 'RP'), (u'the', 'DT'), (u'target', 'NN'), (u'for', 'IN'), (u'a', 'DT'), (u'upper-class', 'JJ'), (u'family', 'NN'), (u'(', ':'), (u'including', 'VBG'), (u'a', 'DT'), (u'young', 'JJ'), (u'yet', 'NN'), (u'well', 'RB'), (u'played', 'VBN'), (u'Winona', 'NNP'), (u'Ryder', 'NNP'), (u')', 'NNP'), (u'and', 'CC'), (u'a', 'DT'), (u'weird', 'JJ'), (u'yet', 'NN'), (u'scary', 'NN'), (u'ghost', 'NN'), (u'(', ':'), (u'with', 'IN'), (u'the', 'DT'), (u'most', 'RBS'), (u')', 'JJ'), (u'named', 'VBN'), (u'Beetleguise', 'NNP'), (u'(', 'NNP'), (u'or', 'CC'), (u'Beetlejuice', 'NNP'), (u'in', 'IN'), (u'a', 'DT'), (u'scene', 'NN'), (u'of', 'IN'), (u'laughs', 'NNS'), (u')', ':'), (u'played', 'VBN'), (u'to', 'TO'), (u'immense', 'VB'), (u'complexity', 'NN'), (u'by', 'IN'), (u'Michael', 'NNP'), (u'Keaton', 'NNP'), (u'.', '.'), (u'Sure', 'NNP'), (u'this', 'DT'), (u'plot', 'NN'), (u'may', 'MD'), (u'sound', 'VB'), (u'a', 'DT'), (u'little', 'RB'), (u'anti-climactic', 'JJ'), (u'being', 'VBG'), (u'mainly', 'RB'), (u'gags', 'NNS'), (u'and', 'CC'), (u'not', 'RB'), (u'really', 'RB'), (u'a', 'DT'), (u'focused', 'VBN'), (u'story', 'NN'), (u',', ','), (u'but', 'CC'), (u'so', 'RB'), (u'what', 'WP'), (u'?', '.'), (u'In', 'NNP'), (u'a', 'DT'), (u'film', 'NN'), (u'where', 'WRB'), (u'you', 'PRP'), (u'see', 'VBP'), (u'sandworms', 'NNS'), (u'from', 'IN'), (u'saturn', 'NN'), (u',', ','), (u'shrimps', 'NNS'), (u'that', 'WDT'), (u'attach', 'DT'), (u'after', 'IN'), (u'calypso', 'NN'), (u'and', 'CC'), (u'a', 'DT'), (u'nut', 'NN'), (u'who', 'WP'), (u'has', 'VBZ'), (u'seen', 'VBN'), (u'the', 'DT'), (u'exorcist', 'NN'), (u'167', 'CD'), (u'time', 'NN'), (u'(', ':'), (u'insert', 'NN'), (u'quote', 'NN'), (u'here', 'RB'), (u')', '.'), (u',', ','), (u'why', 'WRB'), (u'bother', 'NN'), (u'with', 'IN'), (u'a', 'DT'), (u'plot', 'NN'), (u'.', '.'), (u'Great', 'NNP'), (u'fun', 'NN'), (u'every', 'DT'), (u'time', 'NN'), (u'I', 'PRP'), (u'watch', 'VBP'), (u'.', '.'), (u'Reccomendable', 'NNP'), (u'to', 'TO'), (u'anyone', 'NN'), (u'.', '.')]\n"
     ]
    },
    {
     "name": "stderr",
     "output_type": "stream",
     "text": [
      "ERROR: Line magic function `%autoreload` not found.\n"
     ]
    }
   ],
   "source": [
    "#%load_ext autoreload\n",
    "%autoreload 2\n",
    "import sys\n",
    "sys.path.append(\"./pylinguistics/\")\n",
    "\n",
    "import Pylinguistics as pl\n",
    "#pl\n",
    "objpl=pl.text(\"This is one of Tim Burton's best films. His sophomore effort shows the story of a married couple (the Maitlands played with good degree by Alec Baldwin and Geena Davis) who die accidentally off a bridge and wind up the target for a upper-class family (including a young yet well played Winona Ryder) and a weird yet scary ghost (with the most) named Beetleguise (or Beetlejuice in a scene of laughs) played to immense complexity by Michael Keaton. Sure this plot may sound a little anti-climactic being mainly gags and not really a focused story, but so what? In a film where you see sandworms from saturn, shrimps that attach after calypso and a nut who has seen the exorcist 167 time (insert quote here), why bother with a plot. Great fun every time I watch. Reccomendable to anyone.\")\n",
    "objpl.summary()\n"
   ]
  },
  {
   "cell_type": "code",
   "execution_count": null,
   "metadata": {
    "collapsed": true
   },
   "outputs": [],
   "source": []
  }
 ],
 "metadata": {
  "kernelspec": {
   "display_name": "Python 2",
   "language": "python",
   "name": "python2"
  },
  "language_info": {
   "codemirror_mode": {
    "name": "ipython",
    "version": 2
   },
   "file_extension": ".py",
   "mimetype": "text/x-python",
   "name": "python",
   "nbconvert_exporter": "python",
   "pygments_lexer": "ipython2",
   "version": "2.7.3"
  }
 },
 "nbformat": 4,
 "nbformat_minor": 0
}
