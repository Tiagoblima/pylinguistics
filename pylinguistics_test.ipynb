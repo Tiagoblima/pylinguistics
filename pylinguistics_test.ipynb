{
 "cells": [
  {
   "cell_type": "code",
   "execution_count": 7,
   "metadata": {
    "collapsed": false
   },
   "outputs": [
    {
     "name": "stdout",
     "output_type": "stream",
     "text": [
      "The autoreload extension is already loaded. To reload it, use:\n",
      "  %reload_ext autoreload\n"
     ]
    }
   ],
   "source": [
    "%load_ext autoreload\n"
   ]
  },
  {
   "cell_type": "code",
   "execution_count": 19,
   "metadata": {
    "collapsed": false
   },
   "outputs": [
    {
     "name": "stdout",
     "output_type": "stream",
     "text": [
      "1. Descriptive\n",
      "  Word count=159\n",
      "  Sentence count=6\n",
      "  Syllable count=195\n",
      "  Avg word per sentence=26.000000\n",
      "  Avg syllable per word=0.815385\n",
      "2. Word Information\n",
      "  Adjective incidence=81.761006\n",
      "  Noun incidence=276.729560\n",
      "  Verb incidence=106.918239\n",
      "3. Syntactic Pattern Density\n",
      "  Content density=1.120000\n",
      "4. Redability\n",
      "  min(flesch_kincaid, coleman_liau)= 0.000000\n",
      "  Ambiquity=8.464286\n",
      "[('This', 'DT'), ('is', 'VBZ'), ('one', 'CD'), ('of', 'IN'), ('Tim', 'NNP'), ('Burton', 'NNP'), (\"'s\", 'POS'), ('best', 'JJS'), ('films', 'NNS'), ('.', '.'), ('His', 'PRP$'), ('sophomore', 'NN'), ('effort', 'NN'), ('shows', 'VBZ'), ('the', 'DT'), ('story', 'NN'), ('of', 'IN'), ('a', 'DT'), ('married', 'JJ'), ('couple', 'NN'), ('(', '('), ('the', 'DT'), ('Maitlands', 'NNPS'), ('played', 'VBD'), ('with', 'IN'), ('good', 'JJ'), ('degree', 'NN'), ('by', 'IN'), ('Alec', 'NNP'), ('Baldwin', 'NNP'), ('and', 'CC'), ('Geena', 'NNP'), ('Davis', 'NNP'), (')', ')'), ('who', 'WP'), ('die', 'VBP'), ('accidentally', 'RB'), ('off', 'RP'), ('a', 'DT'), ('bridge', 'NN'), ('and', 'CC'), ('wind', 'VB'), ('up', 'RP'), ('the', 'DT'), ('target', 'NN'), ('for', 'IN'), ('a', 'DT'), ('upper-class', 'JJ'), ('family', 'NN'), ('(', '('), ('including', 'VBG'), ('a', 'DT'), ('young', 'JJ'), ('yet', 'RB'), ('well', 'RB'), ('played', 'VBN'), ('Winona', 'NNP'), ('Ryder', 'NNP'), (')', ')'), ('and', 'CC'), ('a', 'DT'), ('weird', 'JJ'), ('yet', 'RB'), ('scary', 'JJ'), ('ghost', 'NN'), ('(', '('), ('with', 'IN'), ('the', 'DT'), ('most', 'RBS'), (')', ')'), ('named', 'VBN'), ('Beetleguise', 'NNP'), ('(', '('), ('or', 'CC'), ('Beetlejuice', 'NNP'), ('in', 'IN'), ('a', 'DT'), ('scene', 'NN'), ('of', 'IN'), ('laughs', 'NNS'), (')', ')'), ('played', 'VBD'), ('to', 'TO'), ('immense', 'VB'), ('complexity', 'NN'), ('by', 'IN'), ('Michael', 'NNP'), ('Keaton', 'NNP'), ('.', '.'), ('Sure', 'NNP'), ('this', 'DT'), ('plot', 'NN'), ('may', 'MD'), ('sound', 'VB'), ('a', 'DT'), ('little', 'JJ'), ('anti-climactic', 'JJ'), ('being', 'VBG'), ('mainly', 'RB'), ('gags', 'NNS'), ('and', 'CC'), ('not', 'RB'), ('really', 'RB'), ('a', 'DT'), ('focused', 'JJ'), ('story', 'NN'), (',', ','), ('but', 'CC'), ('so', 'RB'), ('what', 'WP'), ('?', '.'), ('In', 'IN'), ('a', 'DT'), ('film', 'NN'), ('where', 'WRB'), ('you', 'PRP'), ('see', 'VBP'), ('sandworms', 'NNS'), ('from', 'IN'), ('saturn', 'NN'), (',', ','), ('shrimps', 'VBZ'), ('that', 'IN'), ('attach', 'NN'), ('after', 'IN'), ('calypso', 'NN'), ('and', 'CC'), ('a', 'DT'), ('nut', 'NN'), ('who', 'WP'), ('has', 'VBZ'), ('seen', 'VBN'), ('the', 'DT'), ('exorcist', 'JJ'), ('167', 'CD'), ('time', 'NN'), ('(', '('), ('insert', 'JJ'), ('quote', 'NN'), ('here', 'RB'), (')', ')'), (',', ','), ('why', 'WRB'), ('bother', 'NN'), ('with', 'IN'), ('a', 'DT'), ('plot', 'NN'), ('.', '.'), ('Great', 'NNP'), ('fun', 'NN'), ('every', 'DT'), ('time', 'NN'), ('I', 'PRP'), ('watch', 'VBP'), ('.', '.'), ('Reccomendable', 'JJ'), ('to', 'TO'), ('anyone', 'NN'), ('.', '.')]\n"
     ]
    }
   ],
   "source": [
    "%autoreload 2\n",
    "import sys\n",
    "sys.path.append(\"./pylinguistics/\")\n",
    "\n",
    "import Pylinguistics as pl\n",
    "#pl\n",
    "objpl=pl.text(\"This is one of Tim Burton's best films. His sophomore effort shows the story of a married couple (the Maitlands played with good degree by Alec Baldwin and Geena Davis) who die accidentally off a bridge and wind up the target for a upper-class family (including a young yet well played Winona Ryder) and a weird yet scary ghost (with the most) named Beetleguise (or Beetlejuice in a scene of laughs) played to immense complexity by Michael Keaton. Sure this plot may sound a little anti-climactic being mainly gags and not really a focused story, but so what? In a film where you see sandworms from saturn, shrimps that attach after calypso and a nut who has seen the exorcist 167 time (insert quote here), why bother with a plot. Great fun every time I watch. Reccomendable to anyone.\")\n",
    "objpl.summary()"
   ]
  },
  {
   "cell_type": "code",
   "execution_count": null,
   "metadata": {
    "collapsed": true
   },
   "outputs": [],
   "source": []
  },
  {
   "cell_type": "code",
   "execution_count": null,
   "metadata": {
    "collapsed": true
   },
   "outputs": [],
   "source": []
  }
 ],
 "metadata": {
  "kernelspec": {
   "display_name": "Python 2",
   "language": "python",
   "name": "python2"
  },
  "language_info": {
   "codemirror_mode": {
    "name": "ipython",
    "version": 2
   },
   "file_extension": ".py",
   "mimetype": "text/x-python",
   "name": "python",
   "nbconvert_exporter": "python",
   "pygments_lexer": "ipython2",
   "version": "2.7.6"
  }
 },
 "nbformat": 4,
 "nbformat_minor": 0
}
