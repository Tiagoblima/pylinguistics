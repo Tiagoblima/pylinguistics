{
 "cells": [
  {
   "cell_type": "code",
   "execution_count": null,
   "metadata": {
    "collapsed": false
   },
   "outputs": [],
   "source": []
  },
  {
   "cell_type": "code",
   "execution_count": 10,
   "metadata": {
    "collapsed": false
   },
   "outputs": [
    {
     "name": "stdout",
     "output_type": "stream",
     "text": [
      "language: pt-br\n",
      "1. Descriptive\n",
      "  Word count=147\n",
      "  Sentence count=6\n",
      "  Avg word per sentence=24.000000\n",
      "2. Word Information\n",
      "  Adjective incidence=0.000000\n",
      "  Noun incidence=0.000000\n",
      "  Verb incidence=0.000000\n",
      "3. Syntactic Pattern Density\n",
      "  Content density=0.000000\n",
      "4. Redability\n",
      "  min(flesch_kincaid, coleman_liau)= 0.000000\n",
      "  Ambiquity=0.000000\n"
     ]
    }
   ],
   "source": [
    "#%load_ext autoreload\n",
    "#%autoreload 2\n",
    "#%reload_ext autoreload\n",
    "import sys\n",
    "sys.path.append(\"./pylinguistics/\")\n",
    "\n",
    "import Pylinguistics as pl\n",
    "objpl=pl.text(\"Houve um tempo em que o hábito de manter cadernos de anotações era algo bastante corriqueiro. Os chamados de 'livros de lugares-comuns' (ou commonplace books ) eram utilizados pelos leitores para o registro de trechos e passagens interessantes com que se deparavam em suas leituras. Mas além de transcrições, esses cadernos também reuniam apontamentos sobre a vida cotidiana, conforme relata o historiador Robert Darnton em A Questão dos Livros (Cia. das Letras, 2009, p.164). Essas informações eram grupadas e reorganizadas à medida que novos excertos iam sendo acrescidos. O hábito espalhou-se por toda a Inglaterra no início da era Moderna, e muitos escritores famosos - entre eles John Milton e Francis Bacon - cultivaram essa maneira especial de absorver a palavra impressa, fundada na não linearidade e na fragmentação da informação. \")\n",
    "objpl.setLanguage(\"pt-br\");\n",
    "\n",
    "objpl.summary()"
   ]
  },
  {
   "cell_type": "code",
   "execution_count": null,
   "metadata": {
    "collapsed": true
   },
   "outputs": [],
   "source": []
  },
  {
   "cell_type": "code",
   "execution_count": null,
   "metadata": {
    "collapsed": true
   },
   "outputs": [],
   "source": [
    "%load_ext autoreload\n",
    "#%autoreload 2\n",
    "import sys\n",
    "sys.path.append(\"./pylinguistics/\")\n",
    "\n",
    "import Pylinguistics as pl\n",
    "objpl=pl.text(\"This is one of Tim Burton's best films. His sophomore effort shows the story of a married couple (the Maitlands played with good degree by Alec Baldwin and Geena Davis) who die accidentally off a bridge and wind up the target for a upper-class family (including a young yet well played Winona Ryder) and a weird yet scary ghost (with the most) named Beetleguise (or Beetlejuice in a scene of laughs) played to immense complexity by Michael Keaton. Sure this plot may sound a little anti-climactic being mainly gags and not really a focused story, but so what? In a film where you see sandworms from saturn, shrimps that attach after calypso and a nut who has seen the exorcist 167 time (insert quote here), why bother with a plot. Great fun every time I watch. Reccomendable to anyone.\")\n",
    "\n",
    "objpl.summary()"
   ]
  }
 ],
 "metadata": {
  "kernelspec": {
   "display_name": "Python 2",
   "language": "python",
   "name": "python2"
  },
  "language_info": {
   "codemirror_mode": {
    "name": "ipython",
    "version": 2
   },
   "file_extension": ".py",
   "mimetype": "text/x-python",
   "name": "python",
   "nbconvert_exporter": "python",
   "pygments_lexer": "ipython2",
   "version": "2.7.3"
  }
 },
 "nbformat": 4,
 "nbformat_minor": 0
}
