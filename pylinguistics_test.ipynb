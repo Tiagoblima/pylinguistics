{
 "cells": [
  {
   "cell_type": "code",
   "execution_count": 7,
   "metadata": {
    "collapsed": false
   },
   "outputs": [
    {
     "name": "stdout",
     "output_type": "stream",
     "text": [
      "word count =6\n",
      "sentence count =1\n",
      "avg word per sentence =6.000000\n",
      "syllable count =6\n",
      "avg syllable per word =0.000000\n"
     ]
    }
   ],
   "source": [
    "#%load_ext autoreload\n",
    "%autoreload 2\n",
    "import sys\n",
    "sys.path.append(\"./pylinguistics/\")\n",
    "\n",
    "import Pylinguistics as pl\n",
    "#pl\n",
    "objpl=pl.text(\"This is one of Tim Burton's best films. His sophomore effort shows the story of a married couple (the Maitlands played with good degree by Alec Baldwin and Geena Davis) who die accidentally off a bridge and wind up the target for a upper-class family (including a young yet well played Winona Ryder) and a weird yet scary ghost (with the most) named Beetleguise (or Beetlejuice in a scene of laughs) played to immense complexity by Michael Keaton. Sure this plot may sound a little anti-climactic being mainly gags and not really a focused story, but so what? In a film where you see sandworms from saturn, shrimps that attach after calypso and a nut who has seen the exorcist 167 time (insert quote here), why bother with a plot. Great fun every time I watch. Reccomendable to anyone.\")\n",
    "objpl.summary()\n"
   ]
  }
 ],
 "metadata": {
  "kernelspec": {
   "display_name": "Python 2",
   "language": "python",
   "name": "python2"
  },
  "language_info": {
   "codemirror_mode": {
    "name": "ipython",
    "version": 2
   },
   "file_extension": ".py",
   "mimetype": "text/x-python",
   "name": "python",
   "nbconvert_exporter": "python",
   "pygments_lexer": "ipython2",
   "version": "2.7.3"
  }
 },
 "nbformat": 4,
 "nbformat_minor": 0
}
