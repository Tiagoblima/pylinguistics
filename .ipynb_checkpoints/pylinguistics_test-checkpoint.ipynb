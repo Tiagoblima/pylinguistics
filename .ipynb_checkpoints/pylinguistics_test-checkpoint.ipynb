{
 "cells": [
  {
   "cell_type": "code",
   "execution_count": 7,
   "metadata": {
    "collapsed": false
   },
   "outputs": [
    {
     "name": "stdout",
     "output_type": "stream",
     "text": [
      "word count =6\n",
      "sentence count =1\n",
      "avg word per sentence =6.000000\n",
      "syllable count =6\n",
      "avg syllable per word =0.000000\n"
     ]
    }
   ],
   "source": [
    "import pylinguistics.pylinguistics as pl\n",
    "\n",
    "objpl=pl.text(\"The book is on the table\")\n",
    "objpl.summary()\n"
   ]
  }
 ],
 "metadata": {
  "kernelspec": {
   "display_name": "Python 2",
   "language": "python",
   "name": "python2"
  },
  "language_info": {
   "codemirror_mode": {
    "name": "ipython",
    "version": 2
   },
   "file_extension": ".py",
   "mimetype": "text/x-python",
   "name": "python",
   "nbconvert_exporter": "python",
   "pygments_lexer": "ipython2",
   "version": "2.7.3"
  }
 },
 "nbformat": 4,
 "nbformat_minor": 0
}
